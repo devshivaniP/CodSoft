{
 "cells": [
  {
   "cell_type": "markdown",
   "id": "3f82b8f3-1c52-405d-8911-7eb652c99ce7",
   "metadata": {},
   "source": [
    "# Importing the Required Packages"
   ]
  },
  {
   "cell_type": "code",
   "execution_count": null,
   "id": "6a08c151-2e21-4f55-8049-ca0243ed13b9",
   "metadata": {
    "editable": true,
    "slideshow": {
     "slide_type": ""
    },
    "tags": []
   },
   "outputs": [],
   "source": [
    "import pandas as pd\n",
    "import numpy as np\n",
    "import matplotlib.pyplot as plt\n",
    "import sklearn\n",
    "import seaborn as sns\n",
    "import warnings\n",
    "warnings.filterwarnings('ignore')"
   ]
  },
  {
   "cell_type": "markdown",
   "id": "394aa0a3-a27d-4f0d-9523-c2f0319527a9",
   "metadata": {},
   "source": [
    "# Importing the Dataset"
   ]
  },
  {
   "cell_type": "code",
   "execution_count": null,
   "id": "9c50381f-e7d5-4118-afa5-f9fe1622208c",
   "metadata": {},
   "outputs": [],
   "source": [
    "data = pd.read_csv(\"Documents/DS Projects/creditcard.csv\")\n",
    "data.head()"
   ]
  },
  {
   "cell_type": "code",
   "execution_count": null,
   "id": "a8d82d31-2d2b-4120-8e42-0267a6a999fe",
   "metadata": {
    "editable": true,
    "slideshow": {
     "slide_type": ""
    },
    "tags": []
   },
   "outputs": [],
   "source": [
    "data.info()"
   ]
  },
  {
   "cell_type": "code",
   "execution_count": null,
   "id": "410c2e93-d4e7-42ae-9236-f44ed0ce2150",
   "metadata": {
    "scrolled": true
   },
   "outputs": [],
   "source": [
    "data.describe()"
   ]
  },
  {
   "cell_type": "markdown",
   "id": "792ffec7-c282-4d67-9bc1-909699de5618",
   "metadata": {},
   "source": [
    "# Data Preprocessing"
   ]
  },
  {
   "cell_type": "code",
   "execution_count": null,
   "id": "e89994b1-0770-4af8-a626-23f545fb0d54",
   "metadata": {
    "editable": true,
    "scrolled": true,
    "slideshow": {
     "slide_type": ""
    },
    "tags": []
   },
   "outputs": [],
   "source": [
    "#checking for the null values\n",
    "data.isnull().sum()"
   ]
  },
  {
   "cell_type": "markdown",
   "id": "40196be7-8591-4156-af78-6b1e76ec2a9e",
   "metadata": {},
   "source": [
    "### There are no null values"
   ]
  },
  {
   "cell_type": "code",
   "execution_count": null,
   "id": "c558c8e6-ef92-40b1-b8c5-0d35b64b87d2",
   "metadata": {},
   "outputs": [],
   "source": [
    "#checking for duplicate values\n",
    "data.duplicated().sum()"
   ]
  },
  {
   "cell_type": "code",
   "execution_count": null,
   "id": "5026abe1-131d-4c49-b9db-650e53d0ce8c",
   "metadata": {},
   "outputs": [],
   "source": [
    "#removing the duplicate values\n",
    "data.drop_duplicates(inplace = True)\n",
    "data.duplicated().sum()"
   ]
  },
  {
   "cell_type": "code",
   "execution_count": null,
   "id": "2788f8c8-0716-409f-b2b5-ed754257e4e8",
   "metadata": {
    "scrolled": true
   },
   "outputs": [],
   "source": [
    "#Analysing the distribution of Fraud and Valid Transcations\n",
    "data['Class'].value_counts()"
   ]
  },
  {
   "cell_type": "code",
   "execution_count": null,
   "id": "026b1be0-aa75-4304-a243-7ebda3c3afef",
   "metadata": {
    "editable": true,
    "slideshow": {
     "slide_type": ""
    },
    "tags": []
   },
   "outputs": [],
   "source": [
    "plt.pie(data['Class'].value_counts(), labels = data['Class'].value_counts().index,autopct='%1.2f%%')\n",
    "plt.title(\"Distribution of Transcations\")\n",
    "plt.show()"
   ]
  },
  {
   "cell_type": "code",
   "execution_count": null,
   "id": "ba7c272f-f5b0-4484-b645-b3d52d43f6c3",
   "metadata": {},
   "outputs": [],
   "source": [
    "fraud = data[data['Class'] == 1]\n",
    "valid = data[data['Class'] == 0]"
   ]
  },
  {
   "cell_type": "code",
   "execution_count": null,
   "id": "3ee8c5a6-5c07-4458-903a-7b6f2c02ea70",
   "metadata": {},
   "outputs": [],
   "source": [
    "print(len(fraud))"
   ]
  },
  {
   "cell_type": "code",
   "execution_count": null,
   "id": "b82c5007-9bf4-4a06-a52c-c2fc511f8461",
   "metadata": {},
   "outputs": [],
   "source": [
    "fraud.Amount.describe()"
   ]
  },
  {
   "cell_type": "code",
   "execution_count": null,
   "id": "2d4f3b24-37c4-4133-807b-92845fcde12d",
   "metadata": {},
   "outputs": [],
   "source": [
    "valid.Amount.describe()"
   ]
  },
  {
   "cell_type": "code",
   "execution_count": null,
   "id": "45a646df-653f-4da5-bc89-778a02f912a6",
   "metadata": {
    "editable": true,
    "slideshow": {
     "slide_type": ""
    },
    "tags": []
   },
   "outputs": [],
   "source": [
    "print(\"Fraud Cases: {}\".format(len(fraud)))\n",
    "print(\"Valid Cases: {}\".format(len(valid)))"
   ]
  },
  {
   "cell_type": "code",
   "execution_count": null,
   "id": "5efee202-6c4c-429c-aecd-363888aa627a",
   "metadata": {},
   "outputs": [],
   "source": [
    "outlier_fraction = len(fraud)/len(valid)\n",
    "print(outlier_fraction)"
   ]
  },
  {
   "cell_type": "code",
   "execution_count": null,
   "id": "506fb299-9667-4077-8100-d2d3ade55e03",
   "metadata": {},
   "outputs": [],
   "source": [
    "correlation_matrix = data.corr()\n",
    "fig = plt.figure(figsize = (5,4))\n",
    "sns.heatmap(correlation_matrix, vmax = .8, annot = False, square = True)\n",
    "plt.show()"
   ]
  },
  {
   "cell_type": "markdown",
   "id": "dcbbfb76-88e4-47fd-8b8c-c48247baa2a6",
   "metadata": {},
   "source": [
    "### The mean of fraud transactions is comparatively high and if can lead to the overfitting of the model. Let's transform the data "
   ]
  },
  {
   "cell_type": "markdown",
   "id": "38f38108-7c92-4e7c-8220-d2f1b43d6d65",
   "metadata": {},
   "source": [
    "# Splitting the data"
   ]
  },
  {
   "cell_type": "code",
   "execution_count": null,
   "id": "045c2581-d128-4df4-baf2-079f14547520",
   "metadata": {},
   "outputs": [],
   "source": [
    "X= data.drop(['Class'],axis=1)\n",
    "Y=data['Class']"
   ]
  },
  {
   "cell_type": "code",
   "execution_count": null,
   "id": "57f9bffc-661b-436c-b7c5-2114fed05335",
   "metadata": {
    "scrolled": true
   },
   "outputs": [],
   "source": [
    "from sklearn.model_selection import train_test_split\n",
    "X_train,X_test,Y_train,Y_test = train_test_split(X,Y, train_size = 0.8, random_state = 42)\n",
    "Y_train.value_counts()\n",
    "\n"
   ]
  },
  {
   "cell_type": "code",
   "execution_count": null,
   "id": "b9f4e04d-3306-410a-8510-25134cf78348",
   "metadata": {},
   "outputs": [],
   "source": [
    "#Using SMOTE \n",
    "from imblearn.over_sampling import SMOTE\n",
    "smote = SMOTE(random_state = 0)\n",
    "X_train, Y_train = smote.fit_resample(X_train, Y_train)\n",
    "X_test, Y_test = smote.fit_resample(X_test, Y_test)\n",
    "Y_train.value_counts()"
   ]
  },
  {
   "cell_type": "markdown",
   "id": "748a9e54-f558-41ab-b27d-cfbb0591e7c7",
   "metadata": {},
   "source": [
    "# Model Training and Evaluation"
   ]
  },
  {
   "cell_type": "code",
   "execution_count": null,
   "id": "27f63afd-9021-4c31-a545-ff4d42317fbb",
   "metadata": {},
   "outputs": [],
   "source": [
    "from sklearn.linear_model import LogisticRegression\n",
    "LR_Model = LogisticRegression()\n",
    "LR_Model.fit(X_train, Y_train)\n",
    "Y_pred_LR = LR_Model.predict(X_test)\n"
   ]
  },
  {
   "cell_type": "code",
   "execution_count": null,
   "id": "7e39718a-a671-460a-9467-91204859cf61",
   "metadata": {},
   "outputs": [],
   "source": [
    "from sklearn.metrics import confusion_matrix, precision_recall_curve, classification_report, precision_score, recall_score, accuracy_score\n",
    "cnf_matrix = confusion_matrix(Y_test, Y_pred_LR)\n",
    "accuracy_LR = accuracy_score(Y_test, Y_pred_LR)\n",
    "print(\"Accuracy of the model is\", accuracy_LR*100)\n",
    "\n",
    "sns.heatmap(pd.DataFrame(cnf_matrix), annot=True, cmap=\"YlGnBu\", fmt='g')\n",
    "plt.ylabel('Actual Label')\n",
    "plt.xlabel('Predicted Label')\n",
    "\n",
    "labels = ['Non-fraud', 'Fraud']\n",
    "print(classification_report(Y_test, Y_pred_LR, target_names=labels))\n"
   ]
  },
  {
   "cell_type": "code",
   "execution_count": null,
   "id": "0d0f681f-3cac-4b78-98f9-bc0d3c5135e1",
   "metadata": {},
   "outputs": [],
   "source": []
  }
 ],
 "metadata": {
  "kernelspec": {
   "display_name": "Python 3 (ipykernel)",
   "language": "python",
   "name": "python3"
  },
  "language_info": {
   "codemirror_mode": {
    "name": "ipython",
    "version": 3
   },
   "file_extension": ".py",
   "mimetype": "text/x-python",
   "name": "python",
   "nbconvert_exporter": "python",
   "pygments_lexer": "ipython3",
   "version": "3.11.7"
  }
 },
 "nbformat": 4,
 "nbformat_minor": 5
}
